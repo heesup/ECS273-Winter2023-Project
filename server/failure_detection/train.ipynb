{
 "cells": [
  {
   "cell_type": "code",
   "execution_count": 1,
   "metadata": {},
   "outputs": [
    {
     "name": "stderr",
     "output_type": "stream",
     "text": [
      "/Users/lion397/homebrew/Caskroom/miniforge/base/envs/ecs273/lib/python3.9/site-packages/tqdm/auto.py:22: TqdmWarning: IProgress not found. Please update jupyter and ipywidgets. See https://ipywidgets.readthedocs.io/en/stable/user_install.html\n",
      "  from .autonotebook import tqdm as notebook_tqdm\n"
     ]
    },
    {
     "name": "stdout",
     "output_type": "stream",
     "text": [
      "mps\n"
     ]
    }
   ],
   "source": [
    "import torch\n",
    "import torch.nn as nn\n",
    "import pandas as pd\n",
    "from dataset import HddSmartDataset\n",
    "from torch.utils.data import DataLoader\n",
    "from tqdm import tqdm\n",
    "from sklearn.model_selection import train_test_split\n",
    "device = torch.device(\"mps\" if torch.backends.mps.is_available() else \"cpu\")\n",
    "print(device)"
   ]
  },
  {
   "cell_type": "code",
   "execution_count": 2,
   "metadata": {},
   "outputs": [],
   "source": [
    "from torch.utils.data import Subset\n",
    "from sklearn.model_selection import train_test_split\n",
    "def train_val_dataset(dataset, val_split=0.25):\n",
    "    train_idx, val_idx = train_test_split(list(range(len(dataset))), test_size=val_split, shuffle=True)\n",
    "    datasets = {}\n",
    "    datasets['train'] = Subset(dataset, train_idx)\n",
    "    datasets['val'] = Subset(dataset, val_idx)\n",
    "    return datasets\n"
   ]
  },
  {
   "cell_type": "code",
   "execution_count": 3,
   "metadata": {},
   "outputs": [
    {
     "name": "stdout",
     "output_type": "stream",
     "text": [
      "   smart_1_normalized  smart_2_normalized  smart_3_normalized  \\\n",
      "0                0.68                 0.0                0.92   \n",
      "1                1.17                 0.0                0.92   \n",
      "2                0.83                 0.0                0.92   \n",
      "3                1.00                 1.0                1.00   \n",
      "4                0.82                 0.0                0.89   \n",
      "\n",
      "   smart_4_normalized  smart_5_normalized  smart_7_normalized  \\\n",
      "0                 1.0                 1.0                0.91   \n",
      "1                 1.0                 1.0                0.89   \n",
      "2                 1.0                 1.0                0.94   \n",
      "3                 1.0                 1.0                1.00   \n",
      "4                 1.0                 1.0                0.91   \n",
      "\n",
      "   smart_8_normalized  smart_9_normalized  smart_10_normalized  \\\n",
      "0                 0.0                0.75                  1.0   \n",
      "1                 0.0                0.58                  1.0   \n",
      "2                 0.0                0.68                  1.0   \n",
      "3                 1.0                0.38                  1.0   \n",
      "4                 0.0                0.77                  1.0   \n",
      "\n",
      "   smart_11_normalized  ...  smart_244_normalized  smart_246_normalized  \\\n",
      "0                  0.0  ...                   0.0                   0.0   \n",
      "1                  0.0  ...                   0.0                   0.0   \n",
      "2                  0.0  ...                   0.0                   0.0   \n",
      "3                  0.0  ...                   0.0                   0.0   \n",
      "4                  0.0  ...                   0.0                   0.0   \n",
      "\n",
      "   MFG_DELLBOSS  MFG_HGST  MFG_HP  MFG_Hitachi  MFG_Micron  MFG_Seagate  \\\n",
      "0             0         0       0            0           0            1   \n",
      "1             0         0       0            0           0            1   \n",
      "2             0         0       0            0           0            1   \n",
      "3             0         0       0            0           0            0   \n",
      "4             0         0       0            0           0            1   \n",
      "\n",
      "   MFG_TOSHIBA  MFG_WDC  \n",
      "0            0        0  \n",
      "1            0        0  \n",
      "2            0        0  \n",
      "3            1        0  \n",
      "4            0        0  \n",
      "\n",
      "[5 rows x 90 columns]\n",
      "181750\n",
      "60584\n",
      "0         0\n",
      "1         0\n",
      "2         0\n",
      "3         0\n",
      "4         0\n",
      "         ..\n",
      "242329    0\n",
      "242330    0\n",
      "242331    0\n",
      "242332    0\n",
      "242333    0\n",
      "Name: MFG_HP, Length: 242334, dtype: uint8\n"
     ]
    }
   ],
   "source": [
    "dataset = HddSmartDataset(use_mfg=True, use_normalized=True, use_raw=False)\n",
    "datasets = train_val_dataset(dataset)\n",
    "print(len(datasets['train']))\n",
    "print(len(datasets['val']))\n",
    "print(dataset.data_values['MFG_HP'])"
   ]
  },
  {
   "cell_type": "code",
   "execution_count": 4,
   "metadata": {},
   "outputs": [],
   "source": [
    "class Classifier(nn.Module):\n",
    "\n",
    "    def __init__(self, lr = 0.01):\n",
    "        super().__init__()\n",
    "\n",
    "        self.lr = lr\n",
    "        if 1:\n",
    "            self.model = nn.Sequential(\n",
    "                nn.Linear(90, 1000),\n",
    "                nn.LeakyReLU(0.02),\n",
    "                nn.Linear(100, 200),\n",
    "                nn.LeakyReLU(0.02),\n",
    "                nn.Linear(200,2),\n",
    "                nn.Sigmoid(),\n",
    "            )\n",
    "        \n",
    "        self.loss_funciton = nn.CrossEntropyLoss()\n",
    "        #self.loss_funciton = nn.MSELoss()\n",
    "\n",
    "        self.optimiser = torch.optim.SGD(self.parameters(), lr = self.lr)\n",
    "        #self.optimiser = torch.optim.Adam(self.parameters())\n",
    "\n",
    "        self.counter = 0\n",
    "        self.progress = []\n",
    "\n",
    "    def forward(self, inputs):\n",
    "        return self.model(inputs)\n",
    "\n",
    "    \n",
    "    def train(self, inputs, targets):\n",
    "\n",
    "        outputs = self.forward(inputs)\n",
    "\n",
    "        loss = self.loss_funciton(outputs, targets)\n",
    "\n",
    "        self.optimiser.zero_grad()\n",
    "        loss.backward()\n",
    "        self.optimiser.step()\n",
    "\n",
    "        self.counter += 1\n",
    "        if self.counter % 10 == 0:\n",
    "            self.progress.append(loss.item())\n",
    "            pass\n",
    "\n",
    "        if self.counter % 10000 == 0:\n",
    "            print(f\"counter = {self.counter}\")\n",
    "            pass\n",
    "\n",
    "    def plot_progress(self):\n",
    "\n",
    "        df = pd.DataFrame(self.progress, columns=['loss'])\n",
    "        #df.plot(ylim=(0,1.0), figsize=(16,8), alpha=0.1, marker='.', grid=True, yticks=(0,0.25,0.5))\n",
    "        df.plot(ylim=(0,1.0), alpha=0.1, marker='.', grid=True, yticks=(0,0.25,0.5))\n",
    "\n"
   ]
  },
  {
   "cell_type": "code",
   "execution_count": 5,
   "metadata": {},
   "outputs": [
    {
     "name": "stdout",
     "output_type": "stream",
     "text": [
      "epoch 0\n"
     ]
    },
    {
     "name": "stderr",
     "output_type": "stream",
     "text": [
      "  0%|          | 0/2840 [00:00<?, ?it/s]"
     ]
    },
    {
     "ename": "",
     "evalue": "",
     "output_type": "error",
     "traceback": [
      "\u001b[1;31mThe Kernel crashed while executing code in the the current cell or a previous cell. Please review the code in the cell(s) to identify a possible cause of the failure. Click <a href='https://aka.ms/vscodeJupyterKernelCrash'>here</a> for more info. View Jupyter <a href='command:jupyter.viewOutput'>log</a> for further details."
     ]
    },
    {
     "ename": "",
     "evalue": "",
     "output_type": "error",
     "traceback": [
      "\u001b[1;31mCanceled future for execute_request message before replies were done"
     ]
    }
   ],
   "source": [
    "C = Classifier(lr = 0.01).to(device)\n",
    "loader = DataLoader(dataset=datasets['train'], batch_size=64, shuffle=True)\n",
    "n_epochs = 1\n",
    "for epoch in range(n_epochs):\n",
    "    print(f\"epoch {epoch}\")\n",
    "    for label, image_tensor, target_tensor in tqdm(loader):\n",
    "        C.train(image_tensor.to(device), targets=target_tensor.to(device))\n",
    "C.plot_progress()"
   ]
  },
  {
   "cell_type": "code",
   "execution_count": 20,
   "metadata": {},
   "outputs": [
    {
     "name": "stdout",
     "output_type": "stream",
     "text": [
      "0 tensor([1.0000e+00, 8.6597e-16], device='mps:0')\n"
     ]
    },
    {
     "data": {
      "image/png": "[encoded data removed]",
      "text/plain": [
       "<Figure size 640x480 with 1 Axes>"
      ]
     },
     "metadata": {},
     "output_type": "display_data"
    }
   ],
   "source": [
    "test_dataset = dataset\n",
    "gt, img_tensor, _ = test_dataset[50000]\n",
    "with torch.no_grad():\n",
    "    output = C.forward(img_tensor.to(device))\n",
    "pd.DataFrame(output.cpu().numpy()).plot(kind='bar', legend=False, ylim=(0,1))\n",
    "print(gt,output)\n"
   ]
  },
  {
   "cell_type": "code",
   "execution_count": 18,
   "metadata": {},
   "outputs": [
    {
     "name": "stderr",
     "output_type": "stream",
     "text": [
      "100%|██████████| 947/947 [00:06<00:00, 151.87it/s]"
     ]
    },
    {
     "name": "stdout",
     "output_type": "stream",
     "text": [
      "58927 60584 0.9726495444341741\n"
     ]
    },
    {
     "name": "stderr",
     "output_type": "stream",
     "text": [
      "\n"
     ]
    }
   ],
   "source": [
    "score = 0\n",
    "items = 0\n",
    "test_dataset = datasets[\"val\"]\n",
    "test_loader = DataLoader(test_dataset, batch_size=64, shuffle=False)\n",
    "for labels, image_data_tensor, target_tensor in tqdm(test_loader):\n",
    "    with torch.no_grad():\n",
    "        answers = C.forward(image_data_tensor.to(device)).cpu().numpy()\n",
    "        for answer, label in zip(answers,labels):\n",
    "            if answer.argmax() == label:\n",
    "                score += 1\n",
    "                pass\n",
    "            items += 1\n",
    "\n",
    "\n",
    "print(score, items, score/items)"
   ]
  }
 ],
 "metadata": {
  "kernelspec": {
   "display_name": "ecs273",
   "language": "python",
   "name": "python3"
  },
  "language_info": {
   "codemirror_mode": {
    "name": "ipython",
    "version": 3
   },
   "file_extension": ".py",
   "mimetype": "text/x-python",
   "name": "python",
   "nbconvert_exporter": "python",
   "pygments_lexer": "ipython3",
   "version": "3.9.15"
  },
  "orig_nbformat": 4
 },
 "nbformat": 4,
 "nbformat_minor": 2
}
